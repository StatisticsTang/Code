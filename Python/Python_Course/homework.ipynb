{
 "cells": [
  {
   "cell_type": "code",
   "execution_count": null,
   "metadata": {},
   "outputs": [],
   "source": [
    "message = \"Hello world\"\n",
    "print(message)"
   ]
  },
  {
   "cell_type": "code",
   "execution_count": null,
   "metadata": {},
   "outputs": [],
   "source": [
    "brand = ['giant', 'benz', 'honda']\n",
    "traffic = ['bicycle', 'car', 'motorcycle']\n",
    "\n",
    "for i in range(0, 3):\n",
    "    message = \"I would like to own a \" + brand[i].title() + \" \" +traffic[i] + \".\"\n",
    "    print(message)"
   ]
  },
  {
   "cell_type": "code",
   "execution_count": null,
   "metadata": {},
   "outputs": [],
   "source": [
    "car = input(\"Which car do you want? \")\n",
    "print(\"Let me see if I can find a \" + car + \".\")"
   ]
  },
  {
   "cell_type": "code",
   "execution_count": 4,
   "metadata": {},
   "outputs": [
    {
     "name": "stdout",
     "output_type": "stream",
     "text": [
      "The tables are available\n"
     ]
    }
   ],
   "source": [
    "number = input(\"How many people are having dinner? \")\n",
    "number = int(number)\n",
    "\n",
    "if number > 8:\n",
    "    print(\"All the tables are occupied.\")\n",
    "else:\n",
    "    print(\"The tables are available\")"
   ]
  },
  {
   "cell_type": "code",
   "execution_count": null,
   "metadata": {},
   "outputs": [],
   "source": [
    "number = input(\"Enter a number.\")\n",
    "number = int(number)\n",
    "\n",
    "if number % 10 == 0:\n",
    "    print(\"It's a multiple of ten.\")\n",
    "else:\n",
    "    print(\"It's not a multiple of ten\")"
   ]
  },
  {
   "cell_type": "code",
   "execution_count": null,
   "metadata": {},
   "outputs": [],
   "source": [
    "prompt = \"\\nTell me what ingredients do you want: \"\n",
    "\n",
    "message = \"\"\n",
    "while message != 'quit':\n",
    "    message = input(prompt)\n",
    "\n",
    "    if message != 'quit':\n",
    "        print(message)"
   ]
  },
  {
   "cell_type": "code",
   "execution_count": null,
   "metadata": {},
   "outputs": [],
   "source": [
    "prompt = \"\\nTell me what ingredients do you want: \"\n",
    "\n",
    "active = True\n",
    "while active:\n",
    "    ingredient = input(prompt)\n",
    "    \n",
    "    if ingredient == 'quit':\n",
    "        active = False\n",
    "    else:\n",
    "        print(\"Add \" + ingredient + \".\")"
   ]
  },
  {
   "cell_type": "code",
   "execution_count": null,
   "metadata": {},
   "outputs": [],
   "source": [
    "prompt = \"\\nTell me what ingredients do you want: \"\n",
    "\n",
    "while True:\n",
    "    ingredient = input(prompt)\n",
    "    \n",
    "    if ingredient == 'quit':\n",
    "        break\n",
    "    else:\n",
    "        print(\"Add \" + ingredient + \".\")"
   ]
  },
  {
   "cell_type": "code",
   "execution_count": null,
   "metadata": {},
   "outputs": [],
   "source": [
    "prompt = \"How old are you? \"\n",
    "\n",
    "active = True\n",
    "while active:\n",
    "    age = input(prompt)\n",
    "    if age != 'quit':\n",
    "        age = int(age)\n",
    "        if age < 3:\n",
    "            print(\"Free.\")\n",
    "        elif age <= 12:\n",
    "            print(\"$10.\")\n",
    "        elif age > 12:\n",
    "            print(\"$15.\")\n",
    "    else:\n",
    "        active = False"
   ]
  },
  {
   "cell_type": "code",
   "execution_count": null,
   "metadata": {},
   "outputs": [],
   "source": [
    "a = 0\n",
    "b = 1\n",
    "if (a > 0) or (b/a > 2):\n",
    "    print(\"ok\")\n",
    "else:\n",
    "    print(\"error\")"
   ]
  },
  {
   "cell_type": "code",
   "execution_count": 4,
   "metadata": {},
   "outputs": [
    {
     "name": "stdout",
     "output_type": "stream",
     "text": [
      "1,2,3,5,"
     ]
    }
   ],
   "source": [
    "for i in range(1,6):\n",
    "    if i % 4 == 0:\n",
    "        continue\n",
    "    else:\n",
    "        print(i,end = \",\")"
   ]
  },
  {
   "cell_type": "code",
   "execution_count": 10,
   "metadata": {},
   "outputs": [
    {
     "name": "stdout",
     "output_type": "stream",
     "text": [
      "梅花桃花茉莉花"
     ]
    }
   ],
   "source": [
    "Flower = ['梅花', '风信子', '桃花', '迷迭香', '茉莉花']\n",
    "for s in Flower:\n",
    "    if '花' in s:\n",
    "        print(s,end = \"\")\n",
    "        continue"
   ]
  },
  {
   "cell_type": "code",
   "execution_count": 11,
   "metadata": {},
   "outputs": [
    {
     "name": "stdout",
     "output_type": "stream",
     "text": [
      "Pema"
     ]
    }
   ],
   "source": [
    "S = 'Pame'\n",
    "for i in range(len(S)):\n",
    "    print(S[-i],end = \"\")"
   ]
  },
  {
   "cell_type": "code",
   "execution_count": 13,
   "metadata": {},
   "outputs": [
    {
     "name": "stdout",
     "output_type": "stream",
     "text": [
      "proces"
     ]
    }
   ],
   "source": [
    "for i in 'process':\n",
    "    print(i,end = '')\n",
    "    if i == 's':\n",
    "        break"
   ]
  },
  {
   "cell_type": "code",
   "execution_count": null,
   "metadata": {},
   "outputs": [],
   "source": [
    "x = 15\n",
    "y = 2\n",
    "if x % 2 != 0:\n",
    "    y = 1\n",
    "for i in range(y,x + 2,2):\n",
    "    print(i)"
   ]
  },
  {
   "cell_type": "code",
   "execution_count": null,
   "metadata": {},
   "outputs": [],
   "source": [
    "k = 512\n",
    "while k > 1:\n",
    "    print(k)\n",
    "    k /= 2"
   ]
  },
  {
   "cell_type": "code",
   "execution_count": 17,
   "metadata": {},
   "outputs": [
    {
     "name": "stdout",
     "output_type": "stream",
     "text": [
      "3\n"
     ]
    }
   ],
   "source": [
    "n = eval(input(\"输入一个整数： \"))\n",
    "s = 0\n",
    "if n >= 5:\n",
    "    n -= 1\n",
    "    s = 4\n",
    "if n < 5:\n",
    "    n -= 1\n",
    "    s =3\n",
    "print(s)"
   ]
  },
  {
   "cell_type": "code",
   "execution_count": 18,
   "metadata": {},
   "outputs": [
    {
     "name": "stdout",
     "output_type": "stream",
     "text": [
      "1.0 is not int\n"
     ]
    }
   ],
   "source": [
    "a = 1.0\n",
    "if isinstance(a,int):\n",
    "    print(\"{} is int\".format(a))\n",
    "else:\n",
    "    print(\"{} is not int\".format(a))"
   ]
  },
  {
   "cell_type": "code",
   "execution_count": 22,
   "metadata": {},
   "outputs": [
    {
     "name": "stdout",
     "output_type": "stream",
     "text": [
      "aaaa\n"
     ]
    }
   ],
   "source": [
    "try:\n",
    "    Is = eval(input()) * 2\n",
    "    print(Is)\n",
    "except:\n",
    "    print(\"输入有误\")"
   ]
  },
  {
   "cell_type": "code",
   "execution_count": 25,
   "metadata": {},
   "outputs": [],
   "source": [
    "while True:\n",
    "    inp = eval(input(\"请输入一个数值： \"))\n",
    "    if inp // 3:\n",
    "        break"
   ]
  },
  {
   "cell_type": "code",
   "execution_count": 29,
   "metadata": {},
   "outputs": [],
   "source": [
    "PM = eval(input(\"请输入PM2.5数值： \"))\n",
    "if PM > 75:\n",
    "    print(\"空气污染\")\n",
    "if PM < 35:\n",
    "    print(\"空气良好\")"
   ]
  },
  {
   "cell_type": "code",
   "execution_count": 31,
   "metadata": {},
   "outputs": [
    {
     "name": "stdout",
     "output_type": "stream",
     "text": [
      "fish520\n"
     ]
    }
   ],
   "source": [
    "w = input()\n",
    "for x in w:\n",
    "    if '0' <= x <= '9':\n",
    "        continue\n",
    "    else:\n",
    "        w.replace(x,\"\")\n",
    "print(w)"
   ]
  }
 ],
 "metadata": {
  "kernelspec": {
   "display_name": "Python 3.9.12 ('base')",
   "language": "python",
   "name": "python3"
  },
  "language_info": {
   "codemirror_mode": {
    "name": "ipython",
    "version": 3
   },
   "file_extension": ".py",
   "mimetype": "text/x-python",
   "name": "python",
   "nbconvert_exporter": "python",
   "pygments_lexer": "ipython3",
   "version": "3.9.12"
  },
  "orig_nbformat": 4,
  "vscode": {
   "interpreter": {
    "hash": "9e1a75bf644504ade937a172f989bd660780c1f75f5728c4e420f2aab2cde744"
   }
  }
 },
 "nbformat": 4,
 "nbformat_minor": 2
}
