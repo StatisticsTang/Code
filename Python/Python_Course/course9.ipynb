{
 "cells": [
  {
   "cell_type": "code",
   "execution_count": 14,
   "metadata": {},
   "outputs": [
    {
     "name": "stdout",
     "output_type": "stream",
     "text": [
      "3.1415926535\n",
      "8979323846\n",
      "2643383279\n"
     ]
    }
   ],
   "source": [
    "# 函数open()接受一个参数，即要打开文件的名称，并在当前所在的目录搜索指定的文件，关键字with在不需要访问文件后将其关闭，达到close()的效果，且能避免一些bug\n",
    "with open('pi_digits.txt') as file_object:\n",
    "    contents = file_object.read()  # 有了表示txt的文件对象后，使用方法read()读取该文件的全部内容，并将其作为一个长长的字符串存储在变量contents中\n",
    "    print(contents.rstrip())\n",
    "# 相比于原始文件，该输出唯一不同的地方是末尾多了一个空行。因为read()到达文件末尾时返回一个空字符串，而将这个空字符串显示出来时就是一个空行\n",
    "# 要删除多出来的空行，可在print语句中使用rstrip()"
   ]
  },
  {
   "cell_type": "code",
   "execution_count": null,
   "metadata": {},
   "outputs": [],
   "source": [
    "# 提供绝对路径打开文件夹的文件\n",
    "file_path = '/Users/tangchencheng/Desktop/Data/pyData/course/chapter_10/pi_digits.txt'\n",
    "with open(file_path) as file_object:\n",
    "    contents = file_object.read()\n",
    "    print(contents)"
   ]
  },
  {
   "cell_type": "code",
   "execution_count": null,
   "metadata": {},
   "outputs": [],
   "source": [
    "# 需要检查其中每一行时，可以使用逐行读取\n",
    "filename = 'pi_digits.txt'  # 用filename方便随时替换文件\n",
    "\n",
    "with open(filename) as file_object:\n",
    "    for line in file_object:\n",
    "        print(line)\n",
    "\n",
    "# 出现空白行是因为每行末尾都有看不见的换行符，并且print语句也会加上一个换行符，消除空白行仍用rstrip()"
   ]
  },
  {
   "cell_type": "code",
   "execution_count": null,
   "metadata": {},
   "outputs": [],
   "source": [
    "# 用关键字with时，open返回的文件对象只在with代码块内可用，如果要在with代码块外访问文件，则需储存在一个列表中，方可稍后处理\n",
    "filename = 'pi_digits.txt'\n",
    "\n",
    "with open(filename) as file_object:\n",
    "    lines = file_object.readlines()  # 方法readlines()从文件中读取每一行，并储存在一个列表中\n",
    "\n",
    "for line in lines:\n",
    "    print(line.rstrip())"
   ]
  },
  {
   "cell_type": "code",
   "execution_count": 38,
   "metadata": {},
   "outputs": [
    {
     "name": "stdout",
     "output_type": "stream",
     "text": [
      "3.1415926535  8979323846  2643383279\n",
      "36\n"
     ]
    }
   ],
   "source": [
    "# 创建一个字符串，它包含文件中的所有数字，且没有任何空格\n",
    "filename = 'pi_digits.txt'\n",
    "\n",
    "with open(filename) as file_object:\n",
    "    lines = file_object.readlines()\n",
    "\n",
    "pi_string = ''  # 使用循环前先创建一个用于储存圆周率的变量\n",
    "for line in lines:\n",
    "    pi_string += line.rstrip()\n",
    "\n",
    "print(pi_string)\n",
    "print(len(pi_string))"
   ]
  },
  {
   "cell_type": "code",
   "execution_count": 37,
   "metadata": {},
   "outputs": [
    {
     "name": "stdout",
     "output_type": "stream",
     "text": [
      "3.141592653589793238462643383279\n",
      "32\n"
     ]
    }
   ],
   "source": [
    "# 删除原文件每行小数点左边的空格，用strip()而不是rstrip()\n",
    "filename = 'pi_digits.txt'\n",
    "\n",
    "with open(filename) as file_object:\n",
    "    lines = file_object.readlines()\n",
    "\n",
    "pi_string = ''\n",
    "for line in lines:\n",
    "    pi_string += line.strip()\n",
    "\n",
    "print(pi_string)\n",
    "print(len(pi_string))"
   ]
  },
  {
   "cell_type": "markdown",
   "metadata": {},
   "source": [
    "读取文本文件时，Python将其中的所有文本都解读为字符串。如果读取的是数字，并要将其作为数值使用，就必须使用函数int()将其转换为整数，或使用函数float()将其转换为浮点数。"
   ]
  },
  {
   "cell_type": "code",
   "execution_count": null,
   "metadata": {},
   "outputs": [],
   "source": [
    "# 包含小数点后一百万位的圆周率值，无需对前面程序有任何修改\n",
    "file_path = '/Users/tangchencheng/Desktop/Data/pyData/course/chapter_10/pi_million_digits.txt'\n",
    "with open(file_path) as file_object:\n",
    "    lines = file_object.readlines()\n",
    "\n",
    "pi_string = ''\n",
    "for line in lines:\n",
    "    pi_string += line.strip()\n",
    "\n",
    "print(pi_string[:52] + \"...\")  # 只打印到小数点后50位\n",
    "print(len(pi_string))\n",
    "# 读取文件的内容之后，就可以对pi_string使用任何方式进行分析"
   ]
  },
  {
   "cell_type": "code",
   "execution_count": 45,
   "metadata": {},
   "outputs": [],
   "source": [
    "# 要将文本下入文件，在调用open()时需提供另一个实参，告诉python要写入打开的文件\n",
    "filename = 'programming.txt'\n",
    "\n",
    "# 第二个实参w告诉python要以写入模式打开该文件。一共有r,w,a,r+(读取和写入)四种模式，默认r(只读)\n",
    "# 以写入模式打开文件时要小心，因为如果指定的文件已经存在，Python将在返回文件对象前清空该文件。\n",
    "with open(filename, 'w') as file_object:  # 如果写入的文件不存在，函数open()将自动创建它\n",
    "    file_object.write(\"I love programming.\")"
   ]
  },
  {
   "cell_type": "code",
   "execution_count": 48,
   "metadata": {},
   "outputs": [],
   "source": [
    "# 函数write不会在写入的文本末尾添加换行符，因此写入多行时需在write语句中包含换行符\n",
    "filename = 'programming.txt'\n",
    "\n",
    "with open(filename, 'w') as file_object:\n",
    "    file_object.write(\"I love programming.\\n\")\n",
    "    file_object.write(\"I love creating new games.\\n\")"
   ]
  },
  {
   "cell_type": "code",
   "execution_count": 51,
   "metadata": {},
   "outputs": [],
   "source": [
    "# 如果要给文件添加内容，而不是覆盖原有内容，可用附加模式打开文件。如果指定的文件不存在，则会创建一个空文件\n",
    "filename = 'programming.txt'\n",
    "\n",
    "with open(filename, 'a') as file_object:\n",
    "    file_object.write(\"I also love finding meaning in large datasets.\\n\")\n",
    "    file_object.write(\"I love creating apps that can run in a browser.\\n\")"
   ]
  },
  {
   "cell_type": "code",
   "execution_count": null,
   "metadata": {},
   "outputs": [],
   "source": [
    "# <异常>来管理程序执行期间发生的错误，当每次发生错误python都会创建一个异常对象\n",
    "# 可以使用try-except代码块处理异常，如下是一个除以0的异常处理\n",
    "try:\n",
    "    print(5/0)\n",
    "except ZeroDivisionError:\n",
    "    print(\"You can't divide by zero!\")"
   ]
  },
  {
   "cell_type": "code",
   "execution_count": null,
   "metadata": {},
   "outputs": [],
   "source": [
    "# 将可能引发错误的代码放在try-except代码块中，捕获错误后程序将可以继续运行\n",
    "print(\"Give me two number, and I'll divide them.\")\n",
    "print(\"Enter 'q' to quit.\")\n",
    "\n",
    "while True:\n",
    "    first_number = input(\"\\nFirst number: \")\n",
    "    if first_number == 'q':\n",
    "        break\n",
    "    second_number = input(\"Second number: \")\n",
    "    try:\n",
    "        answer = int(first_number) / int(second_number)\n",
    "    except ZeroDivisionError:\n",
    "        print(\"You can't divide by 0!\")\n",
    "    else:\n",
    "        print(answer)"
   ]
  },
  {
   "cell_type": "code",
   "execution_count": null,
   "metadata": {},
   "outputs": [],
   "source": [
    "# 处理FileNotFound异常，由于错误是open()导致的，需将try放在open()的代码行前\n",
    "filename = 'alice.txt'\n",
    "\n",
    "try:\n",
    "    with open(filename) as f_obj:\n",
    "        contents = f_obj.read()\n",
    "except FileNotFoundError:\n",
    "    msg = \"Sorry, the file \" + filename + \" does not exist.\"\n",
    "    print(msg)"
   ]
  },
  {
   "cell_type": "code",
   "execution_count": null,
   "metadata": {},
   "outputs": [],
   "source": [
    "# 创建一个单词列表，统计文本包含多少个单词，用split()\n",
    "title = \"Alice in Wonderland\"\n",
    "title.split()"
   ]
  },
  {
   "cell_type": "code",
   "execution_count": 60,
   "metadata": {},
   "outputs": [
    {
     "name": "stdout",
     "output_type": "stream",
     "text": [
      "The file has about 29465 words.\n"
     ]
    }
   ],
   "source": [
    "# 为计算alice包含多少个单词，先对整篇小说用split()，再计算得到的列表包含多少个元素\n",
    "file_path = '/Users/tangchencheng/Desktop/Data/pyData/course/chapter_10/alice.txt'\n",
    "\n",
    "try:\n",
    "    with open(file_path) as f_obj:\n",
    "        contents = f_obj.read()\n",
    "except FileNotFoundError:\n",
    "    msg = \"Sorry, the file does not exist.\"\n",
    "    print(msg)\n",
    "else:\n",
    "    # 计算文件包含多少个单词\n",
    "    words = contents.split() #  调用split生成一个列表\n",
    "    num_words = len(words)\n",
    "    print(\"The file has about \" + str(num_words) + \" words.\")"
   ]
  },
  {
   "cell_type": "code",
   "execution_count": 62,
   "metadata": {},
   "outputs": [
    {
     "name": "stdout",
     "output_type": "stream",
     "text": [
      "The file has about 29465 words.\n"
     ]
    }
   ],
   "source": [
    "# 可以将其包装成一个函数\n",
    "def count_words(file_path):\n",
    "    try:\n",
    "        with open(file_path) as f_obj:\n",
    "            contents = f_obj.read()\n",
    "    except FileNotFoundError:\n",
    "        msg = \"Sorry, the file \" + filename + \" does not exist.\"\n",
    "        print(msg)\n",
    "    else:\n",
    "        words = contents.split()\n",
    "        num_words = len(words)\n",
    "        print(\"The file has about \" + str(num_words) + \" words.\")\n",
    "\n",
    "file_path = '/Users/tangchencheng/Desktop/Data/pyData/course/chapter_10/alice.txt'\n",
    "count_words(file_path)"
   ]
  },
  {
   "cell_type": "code",
   "execution_count": null,
   "metadata": {},
   "outputs": [],
   "source": [
    "# 当希望程序发生异常时一声不吭，使用pass语句\n",
    "def count_words(file_path):\n",
    "    try:\n",
    "        with open(file_path) as f_obj:\n",
    "            contents = f_obj.read()\n",
    "    except FileNotFoundError:\n",
    "        pass\n",
    "    else:\n",
    "        words = contents.split()\n",
    "        num_words = len(words)\n",
    "        print(\"The file has about \" + str(num_words) + \" words.\")\n",
    "\n",
    "file_path = '/Users/tangchencheng/Desktop/Data/pyData/course/chapter_10/alice.txt'\n",
    "count_words(file_path)"
   ]
  },
  {
   "cell_type": "code",
   "execution_count": 66,
   "metadata": {},
   "outputs": [],
   "source": [
    "# 使用json.dump()来储存数字，它接受两个实参：要储存的数据以及可用于储存数据的文件对象\n",
    "import json  # 先导入模块json\n",
    "\n",
    "numbers = [2, 3, 5, 7, 11, 13]\n",
    "\n",
    "filename = 'numbers.json'  # 指定该数字列表储存到的文件的名称\n",
    "with open(filename, 'w') as f_obj:  # 以写入模式打开该文件\n",
    "    json.dump(numbers, f_obj)"
   ]
  },
  {
   "cell_type": "code",
   "execution_count": null,
   "metadata": {},
   "outputs": [],
   "source": [
    "# 使用json.load()将这个列表读到内存中\n",
    "import json\n",
    "\n",
    "filename = 'numbers.json'\n",
    "with open(filename) as f_obj:\n",
    "    numbers = json.load(f_obj)  # 使用json.load()加载储存在number.json中的信息，并储存在变量numbers中\n",
    "\n",
    "print(numbers)"
   ]
  },
  {
   "cell_type": "code",
   "execution_count": 80,
   "metadata": {},
   "outputs": [
    {
     "name": "stdout",
     "output_type": "stream",
     "text": [
      "We'll remember you when you come back, silence!\n"
     ]
    }
   ],
   "source": [
    "# 保存和读取用户生成的数据\n",
    "import json\n",
    "\n",
    "username = input(\"What is your name? \")\n",
    "\n",
    "filename = 'username.json'\n",
    "with open(filename, 'w') as f_obj:\n",
    "    json.dump(username, f_obj)\n",
    "    print(\"We'll remember you when you come back, \" + username + \"!\")\n"
   ]
  },
  {
   "cell_type": "code",
   "execution_count": 81,
   "metadata": {},
   "outputs": [
    {
     "name": "stdout",
     "output_type": "stream",
     "text": [
      "Welcome back, silence!\n"
     ]
    }
   ],
   "source": [
    "# 再编写一个程序，向已储存的用户发出问候\n",
    "import json\n",
    "\n",
    "filename = 'username.json'\n",
    "with open(filename) as f_obj:\n",
    "    username = json.load(f_obj)\n",
    "    print(\"Welcome back, \" + username + \"!\")"
   ]
  },
  {
   "cell_type": "code",
   "execution_count": 87,
   "metadata": {},
   "outputs": [
    {
     "name": "stdout",
     "output_type": "stream",
     "text": [
      "Welcome back, silence!\n"
     ]
    }
   ],
   "source": [
    "# 将以上两个程序合并到一起，并编写try-except以应对首次运行程序引发的FileNotFoundError\n",
    "import json\n",
    "\n",
    "# 如果以前储存了用户名，就加载它，否则就提示用户输入用户名并储存\n",
    "filename = 'username.json'\n",
    "try:\n",
    "    with open(filename) as f_obj:\n",
    "        username = json.load(f_obj)\n",
    "except FileNotFoundError:\n",
    "    username = input(\"What is your name? \")\n",
    "    with open(filename, 'w') as f_obj:\n",
    "        json.dump(username, f_obj)\n",
    "        print(\"We'll remember you when you come back, \" + username + \"!\")\n",
    "else:\n",
    "    print(\"Welcome back, \" + username + \"!\")"
   ]
  }
 ],
 "metadata": {
  "kernelspec": {
   "display_name": "Python 3.9.12 ('base')",
   "language": "python",
   "name": "python3"
  },
  "language_info": {
   "codemirror_mode": {
    "name": "ipython",
    "version": 3
   },
   "file_extension": ".py",
   "mimetype": "text/x-python",
   "name": "python",
   "nbconvert_exporter": "python",
   "pygments_lexer": "ipython3",
   "version": "3.9.12"
  },
  "orig_nbformat": 4,
  "vscode": {
   "interpreter": {
    "hash": "9e1a75bf644504ade937a172f989bd660780c1f75f5728c4e420f2aab2cde744"
   }
  }
 },
 "nbformat": 4,
 "nbformat_minor": 2
}
