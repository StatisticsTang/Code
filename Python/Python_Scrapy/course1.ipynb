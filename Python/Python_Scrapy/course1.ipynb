{
 "cells": [
  {
   "cell_type": "code",
   "execution_count": null,
   "metadata": {},
   "outputs": [],
   "source": []
  }
 ],
 "metadata": {
  "kernelspec": {
   "display_name": "Python 3.9.12 ('base')",
   "language": "python",
   "name": "python3"
  },
  "language_info": {
   "name": "python",
   "version": "3.9.12"
  },
  "orig_nbformat": 4,
  "vscode": {
   "interpreter": {
    "hash": "9e1a75bf644504ade937a172f989bd660780c1f75f5728c4e420f2aab2cde744"
   }
  }
 },
 "nbformat": 4,
 "nbformat_minor": 2
}
