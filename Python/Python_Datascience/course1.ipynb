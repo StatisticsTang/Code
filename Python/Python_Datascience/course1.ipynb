{
 "cells": [
  {
   "cell_type": "code",
   "execution_count": 15,
   "metadata": {},
   "outputs": [
    {
     "name": "stdout",
     "output_type": "stream",
     "text": [
      "[0, 1, 2, 3, 4, 5, 6, 7, 8, 9]\n",
      "<class 'list'>\n",
      "['0', '1', '2', '3', '4', '5', '6', '7', '8', '9']\n",
      "<class 'list'>\n"
     ]
    },
    {
     "data": {
      "text/plain": [
       "[bool, str, float, int]"
      ]
     },
     "execution_count": 15,
     "metadata": {},
     "output_type": "execute_result"
    }
   ],
   "source": [
    "# 创建一个整形值列表\n",
    "L = list(range(10))\n",
    "print(L)\n",
    "print(type(L))\n",
    "\n",
    "# 创建一个字符串列表\n",
    "L2 = [str(c) for c in L]\n",
    "print(L2)\n",
    "print(type(L2))\n",
    "\n",
    "L3 = [True, '2', 3.0, 4]\n",
    "[type(item) for item in L3]"
   ]
  },
  {
   "cell_type": "code",
   "execution_count": 16,
   "metadata": {},
   "outputs": [
    {
     "data": {
      "text/plain": [
       "array('i', [0, 1, 2, 3, 4, 5, 6, 7, 8, 9])"
      ]
     },
     "execution_count": 16,
     "metadata": {},
     "output_type": "execute_result"
    }
   ],
   "source": [
    "# python中创建固定类型数组\n",
    "import array\n",
    "L = list(range(10))\n",
    "A = array.array('i', L)  # 这里的'i'是一个数据类型码，表示数据为整形\n",
    "A"
   ]
  },
  {
   "cell_type": "code",
   "execution_count": 18,
   "metadata": {},
   "outputs": [
    {
     "data": {
      "text/plain": [
       "array([1, 4, 2, 5, 3])"
      ]
     },
     "execution_count": 18,
     "metadata": {},
     "output_type": "execute_result"
    }
   ],
   "source": [
    "# 更实用的是numpy中的ndarray对象\n",
    "import numpy as np\n",
    "\n",
    "# 整型数组\n",
    "np.array([1, 4, 2, 5, 3])"
   ]
  },
  {
   "cell_type": "code",
   "execution_count": 19,
   "metadata": {},
   "outputs": [
    {
     "data": {
      "text/plain": [
       "array([3.14, 4.  , 2.  , 3.  ])"
      ]
     },
     "execution_count": 19,
     "metadata": {},
     "output_type": "execute_result"
    }
   ],
   "source": [
    "# 不同于python列表，numpy要求数组必须包含同一类型的数据，若不匹配则向上转换（如果可行）\n",
    "np.array([3.14, 4, 2, 3])  # 这里整型被转换为浮点型"
   ]
  },
  {
   "cell_type": "code",
   "execution_count": 20,
   "metadata": {},
   "outputs": [
    {
     "data": {
      "text/plain": [
       "array([1., 2., 3., 4.], dtype=float32)"
      ]
     },
     "execution_count": 20,
     "metadata": {},
     "output_type": "execute_result"
    }
   ],
   "source": [
    "# 若希望明确设置数组的数据类型，可用dtype关键字\n",
    "np.array([1, 2, 3, 4], dtype='float32')"
   ]
  },
  {
   "cell_type": "code",
   "execution_count": 25,
   "metadata": {},
   "outputs": [
    {
     "data": {
      "text/plain": [
       "array([[2, 3, 4],\n",
       "       [4, 5, 6],\n",
       "       [6, 7, 8]])"
      ]
     },
     "execution_count": 25,
     "metadata": {},
     "output_type": "execute_result"
    }
   ],
   "source": [
    "# 不同于python列表，numpy数组可以被指定为多维的\n",
    "np.array([range(i, i + 3) for i in [2, 4, 6]])"
   ]
  },
  {
   "cell_type": "code",
   "execution_count": 45,
   "metadata": {},
   "outputs": [
    {
     "name": "stdout",
     "output_type": "stream",
     "text": [
      "[0 0 0 0 0 0 0 0 0 0]\n",
      "[[1. 1. 1. 1. 1.]\n",
      " [1. 1. 1. 1. 1.]\n",
      " [1. 1. 1. 1. 1.]]\n",
      "[ 0  2  4  6  8 10 12 14 16 18]\n",
      "[0.   0.25 0.5  0.75 1.  ]\n",
      "[[0.48819925 0.61494248 0.87290719]\n",
      " [0.83267985 0.55101986 0.17799115]\n",
      " [0.6161209  0.39513221 0.88458536]]\n",
      "[[-0.90265637  3.63760035 -0.8271786 ]\n",
      " [ 0.28143104 -0.18270028 -1.18983161]\n",
      " [-1.46283028  1.63360508  0.77964155]]\n",
      "[[3 6 4]\n",
      " [4 9 7]\n",
      " [4 5 0]]\n",
      "[[1. 0. 0.]\n",
      " [0. 1. 0.]\n",
      " [0. 0. 1.]]\n",
      "[1. 1. 1.]\n"
     ]
    }
   ],
   "source": [
    "# 面对大型数组时，使用从头创建数组\n",
    "\n",
    "# 创建一个长度为10的数组，数组的值都是0\n",
    "a = np.zeros(10, dtype=int)\n",
    "print(a)\n",
    "\n",
    "# 创建一个3×5的浮点型数组，数组的值都是1\n",
    "b = np.ones((3, 5), dtype=float)\n",
    "print(b)\n",
    "\n",
    "# 创建一个3×5的浮点型数组，数组的值是一个线性序列，从0开始，到20结束，步长为2（它和内置的range函数类似）\n",
    "c = np.arange(0, 20, 2)\n",
    "print(c)\n",
    "\n",
    "# 创建一个5个元素的数组，且5个数均匀地分配0~1\n",
    "d = np.linspace(0, 1, 5)\n",
    "print(d)\n",
    "\n",
    "# 创建一个3×3的，在0~1均匀分布的随机数组成的数组\n",
    "e = np.random.random((3, 3))\n",
    "print(e)\n",
    "\n",
    "# 创建一个3×3的，均值为0，方差为1的正态分布随机数数组\n",
    "f = np.random.normal(0, 1, (3, 3))\n",
    "print(f)\n",
    "\n",
    "# 创建一个3×3的，[0, 10)区间的随机整型数组\n",
    "g = np.random.randint(0, 10, (3, 3))\n",
    "print(g)\n",
    "\n",
    "# 创建一个3×3的单位矩阵\n",
    "h = np.eye(3)\n",
    "print(h)\n",
    "\n",
    "#创建一个由3个整型数组成的未初始化的数组，数组的值是内存空间中的任意值\n",
    "i = np.empty(3)\n",
    "print(i)"
   ]
  }
 ],
 "metadata": {
  "kernelspec": {
   "display_name": "Python 3.9.12 ('base')",
   "language": "python",
   "name": "python3"
  },
  "language_info": {
   "codemirror_mode": {
    "name": "ipython",
    "version": 3
   },
   "file_extension": ".py",
   "mimetype": "text/x-python",
   "name": "python",
   "nbconvert_exporter": "python",
   "pygments_lexer": "ipython3",
   "version": "3.9.12"
  },
  "orig_nbformat": 4,
  "vscode": {
   "interpreter": {
    "hash": "9e1a75bf644504ade937a172f989bd660780c1f75f5728c4e420f2aab2cde744"
   }
  }
 },
 "nbformat": 4,
 "nbformat_minor": 2
}
